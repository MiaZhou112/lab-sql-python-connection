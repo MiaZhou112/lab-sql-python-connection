{
 "cells": [
  {
   "cell_type": "code",
   "execution_count": null,
   "id": "65c5e11a",
   "metadata": {},
   "outputs": [],
   "source": [
    "import pandas as pd\n",
    "import numpy as np\n",
    "\n",
    "import pymysql\n",
    "from sqlalchemy import create_engine\n",
    "from sqlalchemy import text\n",
    "from urllib.parse import quote_plus\n",
    "\n",
    "import os\n",
    "from dotenv import load_dotenv"
   ]
  },
  {
   "cell_type": "markdown",
   "id": "01ac1566",
   "metadata": {},
   "source": [
    "#### Establish a connection between Python and the Sakila database."
   ]
  },
  {
   "cell_type": "code",
   "execution_count": null,
   "id": "aa55683e",
   "metadata": {},
   "outputs": [],
   "source": [
    "# load db credentials \n",
    "\n",
    "load_dotenv('db_credentials.env')\n",
    "\n",
    "username = os.getenv('username')\n",
    "password = quote_plus(os.getenv(\"password\"))\n",
    "host = os.getenv('host')\n",
    "database = os.getenv('database')"
   ]
  },
  {
   "cell_type": "code",
   "execution_count": null,
   "id": "cd64e0a9",
   "metadata": {},
   "outputs": [],
   "source": [
    "# create an sqlalchemy engine object -- sakila db\n",
    "\n",
    "connection_string = f\"mysql+pymysql://{username}:{password}@{host}/{database}\"\n",
    "engine_sakila = create_engine(connection_string)"
   ]
  },
  {
   "cell_type": "markdown",
   "id": "fe83f667",
   "metadata": {},
   "source": [
    "#### Python Function 'rental_month'"
   ]
  },
  {
   "cell_type": "code",
   "execution_count": null,
   "id": "34573ca8",
   "metadata": {},
   "outputs": [],
   "source": [
    "def rental_month (year,month,engine):\n",
    "\n",
    "    '''\n",
    "    this function takes desired year and month and database engine as parameters\n",
    "    retrieve the rental data for the desired year and month\n",
    "    return the rental data (as dataframe) for desired year and month\n",
    "    '''\n",
    "    \n",
    "    rental_query = '''\n",
    "            select *\n",
    "            from sakila.rental\n",
    "            '''\n",
    "    with engine.connect() as connection:\n",
    "        query = text(rental_query)\n",
    "        result = connection.execute(query)\n",
    "\n",
    "    rows = result.fetchall()\n",
    "    columns = result.keys()\n",
    "    rental_df = pd.DataFrame(rows,columns= columns)\n",
    "\n",
    "\n",
    "    rental_df['rental_year'] = rental_df['rental_date'].dt.year\n",
    "    rental_df['rental_month'] = rental_df['rental_date'].dt.month\n",
    "\n",
    "    condition_year = (rental_df['rental_year'] == year)\n",
    "    condition_month = (rental_df['rental_month'] == month)\n",
    "    rental_df_filtered = rental_df[condition_year & condition_month]\n",
    "    \n",
    "    return rental_df_filtered\n",
    "\n"
   ]
  },
  {
   "cell_type": "markdown",
   "id": "1fc62cde",
   "metadata": {},
   "source": [
    "#### Python function 'rental_count_month'"
   ]
  },
  {
   "cell_type": "code",
   "execution_count": null,
   "id": "225165f1",
   "metadata": {},
   "outputs": [],
   "source": [
    "\n",
    "\n",
    "def rental_count_month(df,year,month):\n",
    "    '''\n",
    "    this function takes 3 parameter: rental data for desired year and month provided by rentals_month function, desired year, desired month\n",
    "    display the number of rentals made by each customer_id during desired year and month\n",
    "    return above displayed as a dataframe\n",
    "    '''\n",
    "    df_rental_month_count = df.groupby('customer_id')['rental_id'].agg('count').reset_index(name = f\"rentals_{month}_{year}\")\n",
    "    return df_rental_month_count\n",
    "\n",
    "\n"
   ]
  },
  {
   "cell_type": "markdown",
   "id": "b9d673c9",
   "metadata": {},
   "source": [
    "#### Python function 'compare_rentals'"
   ]
  },
  {
   "cell_type": "code",
   "execution_count": null,
   "id": "388f560c",
   "metadata": {},
   "outputs": [],
   "source": [
    "def compare_rentals(df1,df2):\n",
    "    '''\n",
    "    this function takes 2 dataframes as paramters , 2 dataframes are provided by rental_count_month function\n",
    "    it combines 2 dataframes and create a column 'difference', which is the diff of rental counts in two months\n",
    "    return combined dataframe\n",
    "    '''\n",
    "    \n",
    "    df_combined = pd.merge(df1,df2,how = 'inner',on = 'customer_id')\n",
    "\n",
    "    column1 = df1.columns[1]\n",
    "    column2 = df2.columns[1]\n",
    "    df_combined['difference'] = df_combined[column1] - df_combined[column2]\n",
    "\n",
    "    return df_combined\n"
   ]
  },
  {
   "cell_type": "markdown",
   "id": "5404f094",
   "metadata": {},
   "source": [
    "#### call above functions\n",
    "#### output is a dataframe showing the rental counts difference in different months for each customer"
   ]
  },
  {
   "cell_type": "code",
   "execution_count": null,
   "id": "73b34271",
   "metadata": {},
   "outputs": [],
   "source": [
    "df_5 = rental_month(2005,5,engine_sakila)\n",
    "df5 = rental_count_month(df_5,2005,5)\n",
    "\n",
    "df_6 = rental_month(2005,6,engine_sakila)\n",
    "df6 = rental_count_month(df_6,2005,6)\n",
    "\n",
    "df_rental_combined = compare_rentals(df5,df6)\n",
    "df_rental_combined"
   ]
  }
 ],
 "metadata": {
  "kernelspec": {
   "display_name": "3.10.10",
   "language": "python",
   "name": "python3"
  },
  "language_info": {
   "codemirror_mode": {
    "name": "ipython",
    "version": 3
   },
   "file_extension": ".py",
   "mimetype": "text/x-python",
   "name": "python",
   "nbconvert_exporter": "python",
   "pygments_lexer": "ipython3",
   "version": "3.10.10"
  }
 },
 "nbformat": 4,
 "nbformat_minor": 5
}
